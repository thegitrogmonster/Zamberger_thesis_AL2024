{
 "cells": [
  {
   "cell_type": "code",
   "execution_count": null,
   "metadata": {},
   "outputs": [],
   "source": []
  },
  {
   "cell_type": "markdown",
   "metadata": {},
   "source": [
    "# AL Results Visualization\n",
    "\n",
    "In this notebook, the goal is to visualize the results and compare the performance of the individual strategies with the respective model classes."
   ]
  },
  {
   "cell_type": "markdown",
   "metadata": {},
   "source": [
    "# Setup"
   ]
  },
  {
   "cell_type": "code",
   "execution_count": null,
   "metadata": {},
   "outputs": [
    {
     "data": {
      "text/plain": [
       "['/home/fhwn.ac.at/202375/.conda/envs/thesis/lib/python312.zip',\n",
       " '/home/fhwn.ac.at/202375/.conda/envs/thesis/lib/python3.12',\n",
       " '/home/fhwn.ac.at/202375/.conda/envs/thesis/lib/python3.12/lib-dynload',\n",
       " '',\n",
       " '/home/fhwn.ac.at/202375/.conda/envs/thesis/lib/python3.12/site-packages',\n",
       " '../',\n",
       " {'../al_lib/'},\n",
       " '../',\n",
       " '../04_Active_Learning/results/figures/',\n",
       " '/home/fhwn.ac.at/202375/.conda/envs/thesis/lib',\n",
       " '../data/',\n",
       " '../04_Active_Learning/results/',\n",
       " '../',\n",
       " {'../al_lib/'},\n",
       " '../',\n",
       " '../04_Active_Learning/results/figures/',\n",
       " '/home/fhwn.ac.at/202375/.conda/envs/thesis/lib',\n",
       " '../data/',\n",
       " '../04_Active_Learning/results/',\n",
       " '../',\n",
       " {'../al_lib/'},\n",
       " '../',\n",
       " '../04_Active_Learning/results/figures/',\n",
       " '/home/fhwn.ac.at/202375/.conda/envs/thesis/lib',\n",
       " '../data/',\n",
       " '../04_Active_Learning/results/',\n",
       " '../',\n",
       " {'../al_lib/'},\n",
       " '../',\n",
       " '../04_Active_Learning/results/figures/',\n",
       " '/home/fhwn.ac.at/202375/.conda/envs/thesis/lib',\n",
       " '../data/',\n",
       " '../04_Active_Learning/results/',\n",
       " '../',\n",
       " {'../al_lib/'},\n",
       " '../',\n",
       " '../04_Active_Learning/results/figures/',\n",
       " '/home/fhwn.ac.at/202375/.conda/envs/thesis/lib',\n",
       " '../data/',\n",
       " '../04_Active_Learning/results/',\n",
       " '../',\n",
       " {'../al_lib/'},\n",
       " '../',\n",
       " '../04_Active_Learning/results/figures/',\n",
       " '/home/fhwn.ac.at/202375/.conda/envs/thesis/lib',\n",
       " '../data/',\n",
       " '../04_Active_Learning/results/',\n",
       " '../',\n",
       " {'../al_lib/'},\n",
       " '../',\n",
       " '../04_Active_Learning/results/figures/',\n",
       " '/home/fhwn.ac.at/202375/.conda/envs/thesis/lib',\n",
       " '../data/',\n",
       " '../04_Active_Learning/results/',\n",
       " '../',\n",
       " {'../al_lib/'},\n",
       " '../',\n",
       " '../04_Active_Learning/results/figures/',\n",
       " '/home/fhwn.ac.at/202375/.conda/envs/thesis/lib',\n",
       " '../data/',\n",
       " '../04_Active_Learning/results/',\n",
       " '../',\n",
       " {'../al_lib/'},\n",
       " '../',\n",
       " '../04_Active_Learning/results/figures/',\n",
       " '/home/fhwn.ac.at/202375/.conda/envs/thesis/lib',\n",
       " '../data/',\n",
       " '../04_Active_Learning/results/',\n",
       " '../',\n",
       " {'../al_lib/'},\n",
       " '../',\n",
       " '../04_Active_Learning/results/figures/',\n",
       " '/home/fhwn.ac.at/202375/.conda/envs/thesis/lib',\n",
       " '../data/',\n",
       " '../04_Active_Learning/results/']"
      ]
     },
     "metadata": {},
     "output_type": "display_data"
    }
   ],
   "source": [
    "# define the paths\n",
    "import sys\n",
    "\n",
    "basepath = \"../\"  # Project directory\n",
    "sys.path.append(basepath)\n",
    "\n",
    "# AL Scripts\n",
    "AL_SCRIPTS_PATH = basepath + \"al_lib/\"\n",
    "\n",
    "sys.path.append({AL_SCRIPTS_PATH})\n",
    "\n",
    "from al_lib.active_learning_setting import FeatureImportancePaths\n",
    "\n",
    "PATHS = FeatureImportancePaths()\n",
    "(DATA_PATH, FIGURE_PATH, ENV_PATH, RESULTS_PATH, LOG_DIR) = PATHS\n",
    "# sys.path.extend(PATHS)\n",
    "\n",
    "sys.path"
   ]
  }
 ],
 "metadata": {
  "language_info": {
   "name": "python"
  }
 },
 "nbformat": 4,
 "nbformat_minor": 2
}
