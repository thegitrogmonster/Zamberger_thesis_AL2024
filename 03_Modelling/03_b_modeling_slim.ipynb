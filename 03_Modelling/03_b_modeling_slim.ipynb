{
 "cells": [
  {
   "cell_type": "markdown",
   "metadata": {},
   "source": [
    "# Modeling - Slim\n",
    "\n",
    "This Notebook is used to generate the optimal modelparamters in an less explorative matter. "
   ]
  },
  {
   "cell_type": "markdown",
   "metadata": {},
   "source": [
    "## Preperation\n",
    "\n",
    "* Import modules\n",
    "* Define paths\n",
    "* Import data"
   ]
  },
  {
   "cell_type": "markdown",
   "metadata": {},
   "source": [
    "### Import Modules"
   ]
  },
  {
   "cell_type": "code",
   "execution_count": 51,
   "metadata": {},
   "outputs": [],
   "source": [
    "import sys\n",
    "import time\n",
    "import joblib\n",
    "import numpy as np\n",
    "import matplotlib.pyplot as plt\n",
    "\n",
    "from sklearn.model_selection import RandomizedSearchCV\n",
    "from sklearn.model_selection import KFold\n",
    "from sklearn.kernel_ridge import KernelRidge as KRR\n",
    "from sklearn.model_selection import train_test_split\n",
    "from sklearn.metrics import make_scorer  \n",
    "from sklearn.metrics import mean_absolute_error, mean_squared_error\n",
    "from sklearn.model_selection import RandomizedSearchCV\n",
    "from scipy.stats import randint\n",
    "from sklearn.ensemble import RandomForestRegressor\n",
    "from sklearn.model_selection import cross_val_predict\n",
    "\n",
    "import pandas as pd\n"
   ]
  },
  {
   "cell_type": "markdown",
   "metadata": {},
   "source": [
    "### Define Paths"
   ]
  },
  {
   "cell_type": "code",
   "execution_count": 40,
   "metadata": {},
   "outputs": [
    {
     "data": {
      "text/plain": [
       "['/home/fhwn.ac.at/202375/Thesis',\n",
       " '/home/fhwn.ac.at/202375/.conda/envs/ml_course/lib/python312.zip',\n",
       " '/home/fhwn.ac.at/202375/.conda/envs/ml_course/lib/python3.12',\n",
       " '/home/fhwn.ac.at/202375/.conda/envs/ml_course/lib/python3.12/lib-dynload',\n",
       " '',\n",
       " '/home/fhwn.ac.at/202375/.conda/envs/ml_course/lib/python3.12/site-packages',\n",
       " './',\n",
       " './',\n",
       " './models',\n",
       " './',\n",
       " './models',\n",
       " './',\n",
       " './models',\n",
       " './',\n",
       " './models']"
      ]
     },
     "execution_count": 40,
     "metadata": {},
     "output_type": "execute_result"
    }
   ],
   "source": [
    "# Basepath\n",
    "basepath=\"./\"\n",
    "sys.path.append(basepath)\n",
    "\n",
    "# Modelpath\n",
    "\n",
    "MODEL_PATH = basepath + \"models\"\n",
    "\n",
    "sys.path.append(MODEL_PATH)\n",
    "sys.path    "
   ]
  },
  {
   "cell_type": "markdown",
   "metadata": {},
   "source": [
    "### Import Data"
   ]
  },
  {
   "cell_type": "code",
   "execution_count": 41,
   "metadata": {},
   "outputs": [
    {
     "data": {
      "text/plain": [
       "(2244, 1870)"
      ]
     },
     "execution_count": 41,
     "metadata": {},
     "output_type": "execute_result"
    }
   ],
   "source": [
    "data_full = pd.read_csv(basepath+\"data/PS20191107_gegl.csv\", \n",
    "                            sep=\";\", decimal=\",\", encoding=\"utf-8\")\n",
    "data_full.shape # for quality control purposes"
   ]
  },
  {
   "cell_type": "code",
   "execution_count": 42,
   "metadata": {},
   "outputs": [
    {
     "data": {
      "text/html": [
       "<div>\n",
       "<style scoped>\n",
       "    .dataframe tbody tr th:only-of-type {\n",
       "        vertical-align: middle;\n",
       "    }\n",
       "\n",
       "    .dataframe tbody tr th {\n",
       "        vertical-align: top;\n",
       "    }\n",
       "\n",
       "    .dataframe thead th {\n",
       "        text-align: right;\n",
       "    }\n",
       "</style>\n",
       "<table border=\"1\" class=\"dataframe\">\n",
       "  <thead>\n",
       "    <tr style=\"text-align: right;\">\n",
       "      <th></th>\n",
       "      <th>Unnamed: 0</th>\n",
       "      <th>year</th>\n",
       "      <th>Origin</th>\n",
       "      <th>type</th>\n",
       "      <th>3996</th>\n",
       "      <th>3994</th>\n",
       "      <th>3992</th>\n",
       "      <th>3990</th>\n",
       "      <th>3988</th>\n",
       "      <th>3987</th>\n",
       "      <th>...</th>\n",
       "      <th>417</th>\n",
       "      <th>415</th>\n",
       "      <th>413</th>\n",
       "      <th>411</th>\n",
       "      <th>409</th>\n",
       "      <th>407</th>\n",
       "      <th>405</th>\n",
       "      <th>403</th>\n",
       "      <th>401</th>\n",
       "      <th>399</th>\n",
       "    </tr>\n",
       "  </thead>\n",
       "  <tbody>\n",
       "    <tr>\n",
       "      <th>0</th>\n",
       "      <td>2GOS-18_1955</td>\n",
       "      <td>1955</td>\n",
       "      <td>POL</td>\n",
       "      <td>living</td>\n",
       "      <td>0.016119</td>\n",
       "      <td>0.015972</td>\n",
       "      <td>0.015830</td>\n",
       "      <td>0.015728</td>\n",
       "      <td>0.015734</td>\n",
       "      <td>0.015787</td>\n",
       "      <td>...</td>\n",
       "      <td>-0.027973</td>\n",
       "      <td>-0.028180</td>\n",
       "      <td>-0.028389</td>\n",
       "      <td>-0.028595</td>\n",
       "      <td>-0.029011</td>\n",
       "      <td>-0.029123</td>\n",
       "      <td>-0.029323</td>\n",
       "      <td>-0.029610</td>\n",
       "      <td>-0.029759</td>\n",
       "      <td>-0.029746</td>\n",
       "    </tr>\n",
       "    <tr>\n",
       "      <th>1</th>\n",
       "      <td>2GOS-18_1969</td>\n",
       "      <td>1969</td>\n",
       "      <td>POL</td>\n",
       "      <td>living</td>\n",
       "      <td>0.016368</td>\n",
       "      <td>0.016543</td>\n",
       "      <td>0.016663</td>\n",
       "      <td>0.016569</td>\n",
       "      <td>0.016333</td>\n",
       "      <td>0.016217</td>\n",
       "      <td>...</td>\n",
       "      <td>-0.029520</td>\n",
       "      <td>-0.029747</td>\n",
       "      <td>-0.029978</td>\n",
       "      <td>-0.030204</td>\n",
       "      <td>-0.030087</td>\n",
       "      <td>-0.030284</td>\n",
       "      <td>-0.030746</td>\n",
       "      <td>-0.031163</td>\n",
       "      <td>-0.031519</td>\n",
       "      <td>-0.031815</td>\n",
       "    </tr>\n",
       "    <tr>\n",
       "      <th>2</th>\n",
       "      <td>2GOS-18_1974</td>\n",
       "      <td>1974</td>\n",
       "      <td>POL</td>\n",
       "      <td>living</td>\n",
       "      <td>0.021364</td>\n",
       "      <td>0.021662</td>\n",
       "      <td>0.021862</td>\n",
       "      <td>0.021573</td>\n",
       "      <td>0.020925</td>\n",
       "      <td>0.020585</td>\n",
       "      <td>...</td>\n",
       "      <td>-0.031046</td>\n",
       "      <td>-0.031270</td>\n",
       "      <td>-0.031483</td>\n",
       "      <td>-0.031701</td>\n",
       "      <td>-0.032089</td>\n",
       "      <td>-0.032390</td>\n",
       "      <td>-0.032609</td>\n",
       "      <td>-0.032653</td>\n",
       "      <td>-0.032627</td>\n",
       "      <td>-0.032784</td>\n",
       "    </tr>\n",
       "    <tr>\n",
       "      <th>3</th>\n",
       "      <td>2GOS-18_1976</td>\n",
       "      <td>1976</td>\n",
       "      <td>POL</td>\n",
       "      <td>living</td>\n",
       "      <td>0.019351</td>\n",
       "      <td>0.019246</td>\n",
       "      <td>0.019181</td>\n",
       "      <td>0.018998</td>\n",
       "      <td>0.018926</td>\n",
       "      <td>0.019205</td>\n",
       "      <td>...</td>\n",
       "      <td>-0.029852</td>\n",
       "      <td>-0.030092</td>\n",
       "      <td>-0.030361</td>\n",
       "      <td>-0.030647</td>\n",
       "      <td>-0.031115</td>\n",
       "      <td>-0.031281</td>\n",
       "      <td>-0.031376</td>\n",
       "      <td>-0.031721</td>\n",
       "      <td>-0.032172</td>\n",
       "      <td>-0.032433</td>\n",
       "    </tr>\n",
       "    <tr>\n",
       "      <th>4</th>\n",
       "      <td>2GOS-18_1996</td>\n",
       "      <td>1996</td>\n",
       "      <td>POL</td>\n",
       "      <td>living</td>\n",
       "      <td>0.018548</td>\n",
       "      <td>0.018604</td>\n",
       "      <td>0.018670</td>\n",
       "      <td>0.018616</td>\n",
       "      <td>0.018375</td>\n",
       "      <td>0.018266</td>\n",
       "      <td>...</td>\n",
       "      <td>-0.029963</td>\n",
       "      <td>-0.030206</td>\n",
       "      <td>-0.030436</td>\n",
       "      <td>-0.030643</td>\n",
       "      <td>-0.030917</td>\n",
       "      <td>-0.031127</td>\n",
       "      <td>-0.031338</td>\n",
       "      <td>-0.031409</td>\n",
       "      <td>-0.031364</td>\n",
       "      <td>-0.031465</td>\n",
       "    </tr>\n",
       "  </tbody>\n",
       "</table>\n",
       "<p>5 rows × 1870 columns</p>\n",
       "</div>"
      ],
      "text/plain": [
       "     Unnamed: 0  year Origin    type      3996      3994      3992      3990  \\\n",
       "0  2GOS-18_1955  1955    POL  living  0.016119  0.015972  0.015830  0.015728   \n",
       "1  2GOS-18_1969  1969    POL  living  0.016368  0.016543  0.016663  0.016569   \n",
       "2  2GOS-18_1974  1974    POL  living  0.021364  0.021662  0.021862  0.021573   \n",
       "3  2GOS-18_1976  1976    POL  living  0.019351  0.019246  0.019181  0.018998   \n",
       "4  2GOS-18_1996  1996    POL  living  0.018548  0.018604  0.018670  0.018616   \n",
       "\n",
       "       3988      3987  ...       417       415       413       411       409  \\\n",
       "0  0.015734  0.015787  ... -0.027973 -0.028180 -0.028389 -0.028595 -0.029011   \n",
       "1  0.016333  0.016217  ... -0.029520 -0.029747 -0.029978 -0.030204 -0.030087   \n",
       "2  0.020925  0.020585  ... -0.031046 -0.031270 -0.031483 -0.031701 -0.032089   \n",
       "3  0.018926  0.019205  ... -0.029852 -0.030092 -0.030361 -0.030647 -0.031115   \n",
       "4  0.018375  0.018266  ... -0.029963 -0.030206 -0.030436 -0.030643 -0.030917   \n",
       "\n",
       "        407       405       403       401       399  \n",
       "0 -0.029123 -0.029323 -0.029610 -0.029759 -0.029746  \n",
       "1 -0.030284 -0.030746 -0.031163 -0.031519 -0.031815  \n",
       "2 -0.032390 -0.032609 -0.032653 -0.032627 -0.032784  \n",
       "3 -0.031281 -0.031376 -0.031721 -0.032172 -0.032433  \n",
       "4 -0.031127 -0.031338 -0.031409 -0.031364 -0.031465  \n",
       "\n",
       "[5 rows x 1870 columns]"
      ]
     },
     "execution_count": 42,
     "metadata": {},
     "output_type": "execute_result"
    }
   ],
   "source": [
    "data_full.head()"
   ]
  },
  {
   "cell_type": "code",
   "execution_count": 77,
   "metadata": {},
   "outputs": [
    {
     "name": "stdout",
     "output_type": "stream",
     "text": [
      "Testing mode for Cross Validation\n",
      "Splitting the data for faster modelling\n"
     ]
    }
   ],
   "source": [
    "# Define the parameters for the CV\n",
    "\n",
    "# Switch for testing mode (use only 10% of the data, among others)\n",
    "testing = True\n",
    "\n",
    "\n",
    "######################################################\n",
    "if testing == True:\n",
    "    nfolds = 2\n",
    "    NoTrials = 5\n",
    "    n_jobs = 20\n",
    "    save_model = False\n",
    "    print(\"Testing mode for Cross Validation\")\n",
    "    print(\"Splitting the data for faster modelling\")\n",
    "    data_testing = data_full.sample(frac=0.1)\n",
    "else:\n",
    "    nfolds = 10\n",
    "    NoTrials = 15\n",
    "    n_jobs = -1\n",
    "    save_model = True\n",
    "    print(\"Extensive mode for Cross Validation\")\n",
    "######################################################"
   ]
  },
  {
   "cell_type": "markdown",
   "metadata": {},
   "source": [
    "## Preprocessing\n",
    "\n",
    "To apply the models we need to split the data into the variables and target."
   ]
  },
  {
   "cell_type": "code",
   "execution_count": 78,
   "metadata": {},
   "outputs": [],
   "source": [
    "# Split into target and features\n",
    "\n",
    "random_state = np.random.RandomState(202375)\n",
    "if testing == True:\n",
    "    data = data_testing\n",
    "    random_state = np.random.RandomState(202375)\n",
    "else:\n",
    "    data = data_full\n",
    "\n",
    "X = data.select_dtypes('float')\n",
    "\n",
    "y = data['year']"
   ]
  },
  {
   "cell_type": "code",
   "execution_count": 79,
   "metadata": {},
   "outputs": [],
   "source": [
    "X_train, X_test, y_train, y_test = train_test_split(X, y, test_size=0.3, random_state=random_state)"
   ]
  },
  {
   "cell_type": "code",
   "execution_count": 80,
   "metadata": {},
   "outputs": [
    {
     "data": {
      "text/plain": [
       "((156, 1866), (68, 1866), (156,), (68,))"
      ]
     },
     "execution_count": 80,
     "metadata": {},
     "output_type": "execute_result"
    }
   ],
   "source": [
    "X_train.shape, X_test.shape, y_train.shape, y_test.shape"
   ]
  },
  {
   "cell_type": "markdown",
   "metadata": {},
   "source": [
    "## Define CV and Score metrics\n",
    "\n",
    "We might want to later implement functions an various model metrics, the goal is to implement multiple errror metrics. For Regression models there are various metrics available (see [sklearn](https://scikit-learn.org/stable/modules/model_evaluation.html#common-cases-predefined-values) for details).  \n",
    "\n",
    "| Scoring | function|\n",
    "| ------------- | ------------- |\n",
    "|‘explained_variance’|metrics.explained_variance_score|\n",
    "|‘max_error’|metrics.max_error|\n",
    "|**‘neg_mean_absolute_error’**|metrics.mean_absolute_error|\n",
    "|‘neg_mean_squared_error’|metrics.mean_squared_error|\n",
    "|**‘neg_root_mean_squared_error’**|metrics.root_mean_squared_error|\n",
    "...\n",
    "\n",
    "\n",
    "As sklearn allows for the evaluation of multiple metrics, we will implement The MAE, and RMSE as follows."
   ]
  },
  {
   "cell_type": "code",
   "execution_count": 81,
   "metadata": {},
   "outputs": [
    {
     "data": {
      "text/plain": [
       "<function sklearn.metrics._scorer.get_scorer_names()>"
      ]
     },
     "execution_count": 81,
     "metadata": {},
     "output_type": "execute_result"
    }
   ],
   "source": [
    "from sklearn.metrics import get_scorer_names\n",
    "get_scorer_names"
   ]
  },
  {
   "cell_type": "code",
   "execution_count": 88,
   "metadata": {},
   "outputs": [],
   "source": [
    "mutliple_scoring = {'neg_mean_absolute_error', 'mean_squared_error'}\n",
    "\n",
    "# scoring = {'neg_MAE': 'neg_mean_absolute_error', 'MSE': 'mean_squared_error'}\n",
    "scoring = ['neg_mean_absolute_error']"
   ]
  },
  {
   "cell_type": "markdown",
   "metadata": {},
   "source": [
    "# Modeling with Randomized Search"
   ]
  },
  {
   "cell_type": "markdown",
   "metadata": {},
   "source": [
    "## Random Forest (RSCV)\n",
    "Define the parameter space over: \n",
    "\n",
    "* bootstrap\n",
    "* max_depth\n",
    "* max_features\n",
    "* n_estimators\n",
    "* min_samples_split\n",
    "* min_samples_leaf"
   ]
  },
  {
   "cell_type": "code",
   "execution_count": 83,
   "metadata": {},
   "outputs": [],
   "source": [
    "rf_param_distribution = {\n",
    "    'bootstrap': [True, False],\n",
    "    'max_depth': randint(low=10, high=110),\n",
    "#     'max_features': ['auto', 'sqrt', 'log2'],\n",
    "    'n_estimators': randint(low=3, high=100), # for hyperparameter with discrete values \n",
    "    'min_samples_split': randint(low=2, high=20), \n",
    "    'min_samples_leaf': randint(low=1, high=20),\n",
    "}"
   ]
  },
  {
   "cell_type": "markdown",
   "metadata": {},
   "source": [
    "### Define the Randomized Search"
   ]
  },
  {
   "cell_type": "code",
   "execution_count": 84,
   "metadata": {},
   "outputs": [],
   "source": [
    "# Prepare to store the results\n",
    "\n",
    "rf_rscv_results = pd.DataFrame(columns=['model', 'MAE', 'RMSE', 'params'])\n",
    "\n",
    "one_cv_layer=np.zeros((NoTrials, 1))\n",
    "two_cv_layers=np.zeros((NoTrials, 1))\n",
    "\n",
    "# Save the predictions\n",
    "all_predictions=np.zeros((len(y_train),NoTrials))"
   ]
  },
  {
   "cell_type": "markdown",
   "metadata": {},
   "source": [
    "### fit the RSCV for RF"
   ]
  },
  {
   "cell_type": "code",
   "execution_count": 90,
   "metadata": {},
   "outputs": [
    {
     "name": "stdout",
     "output_type": "stream",
     "text": [
      "Sim: 0\n",
      "Sim: 1\n",
      "Sim: 2\n",
      "Sim: 3\n",
      "Sim: 4\n"
     ]
    }
   ],
   "source": [
    "# scoring = 'neg_mean_absolute_error'\n",
    "\n",
    "for i in range(0, NoTrials):\n",
    "    print(\"Sim: {0}\".format(i))\n",
    "\n",
    "    # Split the data into 'nfolds' number of splits \n",
    "    inner_cv = KFold(n_splits=nfolds, shuffle=True, random_state=i)\n",
    "    outer_cv = KFold(n_splits=nfolds, shuffle=True, random_state=i)\n",
    "\n",
    "    # Define the Model\n",
    "    rf_rscv = RandomizedSearchCV(\n",
    "    estimator = RandomForestRegressor(),\n",
    "    param_distributions = rf_param_distribution,\n",
    "    n_iter = NoTrials,\n",
    "    cv = inner_cv,\n",
    "    scoring = 'neg_mean_absolute_error', # scoring = scoring\n",
    "    n_jobs=n_jobs,\n",
    "    random_state=i,\n",
    "    )\n",
    "\n",
    "    # fit the model\n",
    "    rf_rscv.fit(X_train, y_train)\n",
    "   \n",
    "   # Calculate the inner CV results\n",
    "    one_cv_layer[i] = rf_rscv.best_score_\n",
    "\n",
    "    # calculate ynl_hat\n",
    "    y_pred = cross_val_predict(rf_rscv, X=X_train, y=y_train, cv=outer_cv, n_jobs=n_jobs)\n",
    "    all_predictions[:,i] = y_pred\n",
    "\n",
    "    #  Calculate the outer CV results\n",
    "\n",
    "    #perform the outer cross validation\n",
    "    \n",
    "    outer_cv_results = cross_val_predict(\n",
    "        rf_rscv, \n",
    "        X=X_test, \n",
    "        y=y_test, \n",
    "        cv=outer_cv, \n",
    "        n_jobs=n_jobs)\n",
    "\n"
   ]
  },
  {
   "cell_type": "code",
   "execution_count": 76,
   "metadata": {},
   "outputs": [
    {
     "data": {
      "text/plain": [
       "array([[-723.18203947],\n",
       "       [-731.36736257],\n",
       "       [-740.73284658],\n",
       "       [-743.26392149],\n",
       "       [-730.09173807],\n",
       "       [   0.        ],\n",
       "       [   0.        ],\n",
       "       [   0.        ],\n",
       "       [   0.        ],\n",
       "       [   0.        ],\n",
       "       [   0.        ],\n",
       "       [   0.        ],\n",
       "       [   0.        ],\n",
       "       [   0.        ],\n",
       "       [   0.        ]])"
      ]
     },
     "execution_count": 76,
     "metadata": {},
     "output_type": "execute_result"
    }
   ],
   "source": [
    "# Investigate the model performance in regards to the Model parameters\n",
    "one_cv_layer"
   ]
  },
  {
   "cell_type": "code",
   "execution_count": 92,
   "metadata": {},
   "outputs": [
    {
     "data": {
      "text/plain": [
       "{'bootstrap': True,\n",
       " 'max_depth': 60,\n",
       " 'min_samples_leaf': 10,\n",
       " 'min_samples_split': 9,\n",
       " 'n_estimators': 97}"
      ]
     },
     "execution_count": 92,
     "metadata": {},
     "output_type": "execute_result"
    }
   ],
   "source": [
    "rf_rscv.best_params_"
   ]
  },
  {
   "cell_type": "code",
   "execution_count": 107,
   "metadata": {},
   "outputs": [],
   "source": [
    "rf_rscv_results.loc[i, 'model'] = rf_rscv\n",
    "rf_rscv_results.loc[i, 'MAE'] = mean_absolute_error(y_test, outer_cv_results)\n",
    "rf_rscv_results.loc[i, 'RMSE'] = np.sqrt(mean_squared_error(y_test, outer_cv_results))\n",
    "rf_rscv_results.at[i, 'params'] = rf_rscv.best_params_"
   ]
  },
  {
   "cell_type": "code",
   "execution_count": 108,
   "metadata": {},
   "outputs": [
    {
     "data": {
      "text/html": [
       "<div>\n",
       "<style scoped>\n",
       "    .dataframe tbody tr th:only-of-type {\n",
       "        vertical-align: middle;\n",
       "    }\n",
       "\n",
       "    .dataframe tbody tr th {\n",
       "        vertical-align: top;\n",
       "    }\n",
       "\n",
       "    .dataframe thead th {\n",
       "        text-align: right;\n",
       "    }\n",
       "</style>\n",
       "<table border=\"1\" class=\"dataframe\">\n",
       "  <thead>\n",
       "    <tr style=\"text-align: right;\">\n",
       "      <th></th>\n",
       "      <th>model</th>\n",
       "      <th>MAE</th>\n",
       "      <th>RMSE</th>\n",
       "      <th>params</th>\n",
       "    </tr>\n",
       "  </thead>\n",
       "  <tbody>\n",
       "    <tr>\n",
       "      <th>4</th>\n",
       "      <td>RandomizedSearchCV(cv=KFold(n_splits=2, random...</td>\n",
       "      <td>2797.584748</td>\n",
       "      <td>4042.486859</td>\n",
       "      <td>{'bootstrap': True, 'max_depth': 60, 'min_samp...</td>\n",
       "    </tr>\n",
       "  </tbody>\n",
       "</table>\n",
       "</div>"
      ],
      "text/plain": [
       "                                               model          MAE  \\\n",
       "4  RandomizedSearchCV(cv=KFold(n_splits=2, random...  2797.584748   \n",
       "\n",
       "          RMSE                                             params  \n",
       "4  4042.486859  {'bootstrap': True, 'max_depth': 60, 'min_samp...  "
      ]
     },
     "execution_count": 108,
     "metadata": {},
     "output_type": "execute_result"
    }
   ],
   "source": [
    "rf_rscv.best_estimator_\n",
    "rf_rscv_results"
   ]
  },
  {
   "cell_type": "code",
   "execution_count": 109,
   "metadata": {},
   "outputs": [
    {
     "name": "stderr",
     "output_type": "stream",
     "text": [
      "[NbConvertApp] Converting notebook 03_b_modeling_slim.ipynb to html\n",
      "[NbConvertApp] Writing 314520 bytes to 03_b_modeling_slim.html\n"
     ]
    }
   ],
   "source": [
    "import subprocess\n",
    "import os\n",
    "\n",
    "notebook_name = '03_b_modeling_slim.ipynb' \n",
    "# get the current date from the system\n",
    "\n",
    "# Get the current date\n",
    "import datetime\n",
    "now = datetime.datetime.now()\n",
    "date = now.strftime(\"%Y-%m-%d\")\n",
    "\n",
    "# define the output name \n",
    "output_name = f\"{notebook_name.split('.')[0]}_{date}.html\"\n",
    "\n",
    "# Convert the notebook to HTML \n",
    "subprocess.call(['jupyter', 'nbconvert', '--to', 'html', notebook_name])\n",
    "# rename the file\n",
    "os.rename(notebook_name.split('.')[0] + '.html', output_name)"
   ]
  }
 ],
 "metadata": {
  "kernelspec": {
   "display_name": "ml_course",
   "language": "python",
   "name": "python3"
  },
  "language_info": {
   "codemirror_mode": {
    "name": "ipython",
    "version": 3
   },
   "file_extension": ".py",
   "mimetype": "text/x-python",
   "name": "python",
   "nbconvert_exporter": "python",
   "pygments_lexer": "ipython3",
   "version": "3.12.0"
  }
 },
 "nbformat": 4,
 "nbformat_minor": 2
}
