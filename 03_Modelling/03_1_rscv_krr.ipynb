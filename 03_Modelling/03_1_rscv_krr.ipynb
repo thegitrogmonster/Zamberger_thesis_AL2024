{
 "cells": [
  {
   "cell_type": "code",
   "execution_count": null,
   "metadata": {},
   "outputs": [],
   "source": []
  },
  {
   "cell_type": "markdown",
   "metadata": {},
   "source": [
    "# RSCV Model building"
   ]
  },
  {
   "cell_type": "markdown",
   "metadata": {},
   "source": [
    "### Import Modules"
   ]
  },
  {
   "cell_type": "code",
   "execution_count": 1,
   "metadata": {},
   "outputs": [],
   "source": [
    "import sys\n",
    "import time\n",
    "import joblib\n",
    "import numpy as np\n",
    "import pandas as pd\n",
    "import matplotlib.pyplot as plt\n",
    "\n",
    "from sklearn.model_selection import RandomizedSearchCV\n",
    "from sklearn.model_selection import KFold\n",
    "from sklearn.model_selection import cross_val_predict\n",
    "\n",
    "from sklearn.kernel_ridge import KernelRidge as KRR\n",
    "from sklearn.ensemble import RandomForestRegressor\n",
    "\n",
    "from sklearn.model_selection import train_test_split\n",
    "\n",
    "from sklearn.metrics import make_scorer\n",
    "from sklearn.metrics import mean_absolute_error, mean_squared_error\n",
    "\n",
    "from scipy.stats import randint"
   ]
  },
  {
   "cell_type": "code",
   "execution_count": 2,
   "metadata": {},
   "outputs": [
    {
     "name": "stdout",
     "output_type": "stream",
     "text": [
      "2.0.0\n"
     ]
    }
   ],
   "source": [
    "print(np.__version__)"
   ]
  },
  {
   "cell_type": "code",
   "execution_count": 3,
   "metadata": {},
   "outputs": [
    {
     "name": "stdout",
     "output_type": "stream",
     "text": [
      "\n",
      "System:\n",
      "    python: 3.12.4 | packaged by conda-forge | (main, Jun 17 2024, 10:23:07) [GCC 12.3.0]\n",
      "executable: /home/fhwn.ac.at/202375/.conda/envs/thesis/bin/python\n",
      "   machine: Linux-5.15.0-101-generic-x86_64-with-glibc2.31\n",
      "\n",
      "Python dependencies:\n",
      "      sklearn: 1.5.0\n",
      "          pip: 24.0\n",
      "   setuptools: 70.0.0\n",
      "        numpy: 2.0.0\n",
      "        scipy: 1.13.1\n",
      "       Cython: None\n",
      "       pandas: 2.2.2\n",
      "   matplotlib: 3.8.4\n",
      "       joblib: 1.4.2\n",
      "threadpoolctl: 3.5.0\n",
      "\n",
      "Built with OpenMP: True\n",
      "\n",
      "threadpoolctl info:\n",
      "       user_api: blas\n",
      "   internal_api: openblas\n",
      "    num_threads: 80\n",
      "         prefix: libopenblas\n",
      "       filepath: /home/fhwn.ac.at/202375/.conda/envs/thesis/lib/libopenblasp-r0.3.27.so\n",
      "        version: 0.3.27\n",
      "threading_layer: pthreads\n",
      "   architecture: SkylakeX\n",
      "\n",
      "       user_api: openmp\n",
      "   internal_api: openmp\n",
      "    num_threads: 80\n",
      "         prefix: libgomp\n",
      "       filepath: /home/fhwn.ac.at/202375/.conda/envs/thesis/lib/libgomp.so.1.0.0\n",
      "        version: None\n"
     ]
    }
   ],
   "source": [
    "import sklearn\n",
    "\n",
    "sklearn.show_versions()"
   ]
  },
  {
   "cell_type": "code",
   "execution_count": 4,
   "metadata": {},
   "outputs": [
    {
     "data": {
      "text/plain": [
       "['/home/fhwn.ac.at/202375/.conda/envs/thesis/lib/python312.zip',\n",
       " '/home/fhwn.ac.at/202375/.conda/envs/thesis/lib/python3.12',\n",
       " '/home/fhwn.ac.at/202375/.conda/envs/thesis/lib/python3.12/lib-dynload',\n",
       " '',\n",
       " '/home/fhwn.ac.at/202375/.conda/envs/thesis/lib/python3.12/site-packages',\n",
       " '../',\n",
       " '../03_Modelling/03_1_rscv/',\n",
       " '../03_Modelling/03_1_rscv/rscv_figures/krr/',\n",
       " '../models',\n",
       " '../al_lib',\n",
       " '../03_Modelling/03_1_rscv/rscv_results/krr/',\n",
       " '/home/fhwn.ac.at/202375/.conda/envs/thesis/lib',\n",
       " '../data']"
      ]
     },
     "execution_count": 4,
     "metadata": {},
     "output_type": "execute_result"
    }
   ],
   "source": [
    "# sys.path.clear()\n",
    "\n",
    "# Basepath\n",
    "basepath = \"../\"  # Project directory\n",
    "sys.path.append(basepath)\n",
    "\n",
    "# Data\n",
    "DATA_PATH = basepath + \"data\"\n",
    "\n",
    "# Results path\n",
    "RESULTS_PATH = basepath + \"03_Modelling/03_1_rscv/rscv_results/krr/\"\n",
    "\n",
    "# Figure path\n",
    "FIGURE_PATH = basepath + \"03_Modelling/03_1_rscv/rscv_figures/krr/\"\n",
    "\n",
    "# Path to environment\n",
    "ENV_PATH = \"/home/fhwn.ac.at/202375/.conda/envs/thesis/lib\"\n",
    "\n",
    "# Modelpath\n",
    "MODEL_PATH = basepath + \"models\"\n",
    "\n",
    "# Logging\n",
    "LOG_DIR = basepath + \"03_Modelling/03_1_rscv/\"\n",
    "\n",
    "# Active Learning library\n",
    "AL_PATH = basepath + \"al_lib\"\n",
    "\n",
    "# Add the paths\n",
    "sys.path.extend(\n",
    "    {DATA_PATH, FIGURE_PATH, ENV_PATH, MODEL_PATH, RESULTS_PATH, LOG_DIR, AL_PATH}\n",
    ")\n",
    "sys.path  # Check if the path is correct"
   ]
  },
  {
   "cell_type": "markdown",
   "metadata": {},
   "source": [
    "### Logging"
   ]
  },
  {
   "cell_type": "code",
   "execution_count": 5,
   "metadata": {},
   "outputs": [
    {
     "data": {
      "text/plain": [
       "'../03_Modelling/03_1_rscv/'"
      ]
     },
     "execution_count": 5,
     "metadata": {},
     "output_type": "execute_result"
    }
   ],
   "source": [
    "LOG_DIR"
   ]
  },
  {
   "cell_type": "code",
   "execution_count": 6,
   "metadata": {},
   "outputs": [
    {
     "name": "stderr",
     "output_type": "stream",
     "text": [
      "2024-06-24 04:07:08 - INFO - Logging started\n",
      "2024-06-24 04:07:08 - INFO - Log file path: ../03_Modelling/03_1_rscv//03_1_rscv_krr_2024-06-24.log\n"
     ]
    }
   ],
   "source": [
    "# import the logging specifications from file 'logging_config.py'\n",
    "from al_lib.logging_config import create_logger\n",
    "import datetime\n",
    "\n",
    "# Add data/time information\n",
    "now = datetime.datetime.now()\n",
    "date = now.strftime(\"%Y-%m-%d\")\n",
    "\n",
    "# Define the notebook name and the output name\n",
    "notebook_name = \"03_1_rscv_krr.ipynb\"  # Is also used when saving the notebook\n",
    "output_name = f\"{notebook_name.split('.')[0]}_{date}.html\"\n",
    "\n",
    "# Specify logging location\n",
    "log_file_name = f\"{notebook_name.split('.')[0]}_{date}.log\"\n",
    "log_file_dir = f\"{LOG_DIR}\"\n",
    "log_file_path = f\"{LOG_DIR}/{log_file_name}\"\n",
    "\n",
    "\n",
    "# Get the logger\n",
    "# logger = None\n",
    "logging = create_logger(__name__, log_file_path=log_file_path)\n",
    "\n",
    "# Usage of the logger as follows:\n",
    "logging.info(\"Logging started\")\n",
    "logging.info(f\"Log file path: {log_file_path}\")"
   ]
  },
  {
   "cell_type": "markdown",
   "metadata": {},
   "source": [
    "### Import Data"
   ]
  },
  {
   "cell_type": "markdown",
   "metadata": {},
   "source": [
    "#### Import PS20191107_2deriv_gegl.csv"
   ]
  },
  {
   "cell_type": "code",
   "execution_count": 7,
   "metadata": {},
   "outputs": [
    {
     "name": "stdout",
     "output_type": "stream",
     "text": [
      "'Name' could not be converted(ValueError). Continue with other column(s).\n",
      "'year' has been converted to 'int'.\n",
      "'Origin' could not be converted(ValueError). Continue with other column(s).\n",
      "'type' could not be converted(ValueError). Continue with other column(s).\n"
     ]
    }
   ],
   "source": [
    "# Import 2nd_deriv\n",
    "\n",
    "data_ps2019_2deriv = pd.read_csv(\n",
    "    DATA_PATH + \"/PS20191107_2deriv_gegl.csv\",\n",
    "    on_bad_lines=\"skip\",\n",
    "    sep=\";\",\n",
    "    decimal=\",\",\n",
    "    encoding=\"utf-8\",\n",
    ")\n",
    "\n",
    "data_ps2019_2deriv = data_ps2019_2deriv.rename(columns={\"Unnamed: 0\": \"Name\"})\n",
    "\n",
    "# Convert all columns of type 'object' to 'float' or 'int' if possible\n",
    "for column in data_ps2019_2deriv.columns:\n",
    "    # change datatype from the 'year' column to 'int\n",
    "    if column == \"year\":\n",
    "        data_ps2019_2deriv[column] = data_ps2019_2deriv[column].astype(\"int\")\n",
    "        print(f\"'{column}' has been converted to 'int'.\")\n",
    "        # skip the rest of the loop\n",
    "        continue\n",
    "    try:\n",
    "        data_ps2019_2deriv[column] = data_ps2019_2deriv[column].astype(\"float\")\n",
    "        # data_small.select_dtypes(include=['object']).astype('float')\n",
    "    except ValueError:\n",
    "        print(f\"'{column}' could not be converted(ValueError). Continue with other column(s).\")\n",
    "    except TypeError:\n",
    "        print(f\"'{column}' could not be converted(TypeError). Continue with other column(s).\")"
   ]
  },
  {
   "cell_type": "code",
   "execution_count": 8,
   "metadata": {},
   "outputs": [
    {
     "data": {
      "text/plain": [
       "(2244, 1870)"
      ]
     },
     "execution_count": 8,
     "metadata": {},
     "output_type": "execute_result"
    }
   ],
   "source": [
    "data_ps2019_2deriv.shape  # for quality control purposes"
   ]
  },
  {
   "cell_type": "markdown",
   "metadata": {},
   "source": [
    "## Select Data"
   ]
  },
  {
   "cell_type": "code",
   "execution_count": 9,
   "metadata": {},
   "outputs": [
    {
     "name": "stderr",
     "output_type": "stream",
     "text": [
      "2024-06-24 04:07:10 - INFO - Dataset: data_ps2019_2deriv\n",
      "2024-06-24 04:07:10 - INFO - Size of the dataset: (2244, 1870)\n"
     ]
    }
   ],
   "source": [
    "# Switch for the dataset\n",
    "# Select from (data_small, data_full, data_2nd_deriv) or other if implemented\n",
    "data_raw = data_ps2019_2deriv\n",
    "data_raw.dataset_name = \"data_ps2019_2deriv\"\n",
    "logging.info(f\"Dataset: {data_raw.dataset_name}\")\n",
    "logging.info(f\"Size of the dataset: {data_raw.shape}\")"
   ]
  },
  {
   "cell_type": "markdown",
   "metadata": {},
   "source": [
    "## Modelling Parameters"
   ]
  },
  {
   "cell_type": "code",
   "execution_count": 10,
   "metadata": {},
   "outputs": [
    {
     "name": "stderr",
     "output_type": "stream",
     "text": [
      "2024-06-24 04:07:10 - INFO - Size of the dataset reduced: (2244, 1870)\n",
      "2024-06-24 04:07:10 - INFO - Testing for Cross Validation: True, nfolds: 5, NoTrials: 5, n_jobs: 20\n"
     ]
    }
   ],
   "source": [
    "# Define the parameters for the CV\n",
    "\n",
    "# Switch for testing mode (use only 10% of the data, among others)\n",
    "testing = True\n",
    "\n",
    "# Define a random state for randomized processes\n",
    "random_state = np.random.RandomState(202375)\n",
    "\n",
    "if testing == True:\n",
    "    nfolds = 5\n",
    "    NoTrials = 5\n",
    "    n_jobs = 20\n",
    "    save_model = False\n",
    "    # data = data_raw.sample(frac=0.15, random_state=random_state)\n",
    "    data = data_raw\n",
    "    logging.info(f\"Size of the dataset reduced: {data.shape}\")\n",
    "else:\n",
    "    nfolds = 10\n",
    "    NoTrials = 15\n",
    "    n_jobs = 30\n",
    "    save_model = True\n",
    "    data = data_raw\n",
    "    logging.info(f\"Size of the dataset not reduced: {data.shape}\")\n",
    "\n",
    "# Log the modelling parameters\n",
    "logging.info(\n",
    "    f\"Testing for Cross Validation: {testing}, nfolds: {nfolds}, NoTrials: {NoTrials}, n_jobs: {n_jobs}\"\n",
    ")"
   ]
  },
  {
   "cell_type": "markdown",
   "metadata": {},
   "source": [
    "## Preprocessing\n",
    "\n",
    "To apply the models we need to split the data into the variables and target."
   ]
  },
  {
   "cell_type": "code",
   "execution_count": 11,
   "metadata": {},
   "outputs": [
    {
     "data": {
      "text/plain": [
       "array([dtype('O'), dtype('int64'), dtype('float64')], dtype=object)"
      ]
     },
     "execution_count": 11,
     "metadata": {},
     "output_type": "execute_result"
    }
   ],
   "source": [
    "data.dtypes.unique()"
   ]
  },
  {
   "cell_type": "code",
   "execution_count": 12,
   "metadata": {},
   "outputs": [
    {
     "data": {
      "text/plain": [
       "float64    1866\n",
       "object        3\n",
       "int64         1\n",
       "Name: count, dtype: int64"
      ]
     },
     "execution_count": 12,
     "metadata": {},
     "output_type": "execute_result"
    }
   ],
   "source": [
    "data.dtypes.value_counts()"
   ]
  },
  {
   "cell_type": "code",
   "execution_count": 13,
   "metadata": {},
   "outputs": [
    {
     "name": "stdout",
     "output_type": "stream",
     "text": [
      "<class 'pandas.core.frame.DataFrame'>\n",
      "RangeIndex: 2244 entries, 0 to 2243\n",
      "Columns: 1870 entries, Name to 399\n",
      "dtypes: float64(1866), int64(1), object(3)\n",
      "memory usage: 32.0+ MB\n"
     ]
    }
   ],
   "source": [
    "data.info()"
   ]
  },
  {
   "cell_type": "code",
   "execution_count": 14,
   "metadata": {},
   "outputs": [
    {
     "data": {
      "text/html": [
       "<div>\n",
       "<style scoped>\n",
       "    .dataframe tbody tr th:only-of-type {\n",
       "        vertical-align: middle;\n",
       "    }\n",
       "\n",
       "    .dataframe tbody tr th {\n",
       "        vertical-align: top;\n",
       "    }\n",
       "\n",
       "    .dataframe thead th {\n",
       "        text-align: right;\n",
       "    }\n",
       "</style>\n",
       "<table border=\"1\" class=\"dataframe\">\n",
       "  <thead>\n",
       "    <tr style=\"text-align: right;\">\n",
       "      <th></th>\n",
       "      <th>year</th>\n",
       "      <th>3996</th>\n",
       "      <th>3994</th>\n",
       "      <th>3992</th>\n",
       "      <th>3990</th>\n",
       "      <th>3988</th>\n",
       "      <th>3987</th>\n",
       "      <th>3985</th>\n",
       "      <th>3983</th>\n",
       "      <th>3981</th>\n",
       "      <th>...</th>\n",
       "      <th>417</th>\n",
       "      <th>415</th>\n",
       "      <th>413</th>\n",
       "      <th>411</th>\n",
       "      <th>409</th>\n",
       "      <th>407</th>\n",
       "      <th>405</th>\n",
       "      <th>403</th>\n",
       "      <th>401</th>\n",
       "      <th>399</th>\n",
       "    </tr>\n",
       "  </thead>\n",
       "  <tbody>\n",
       "    <tr>\n",
       "      <th>count</th>\n",
       "      <td>2244.000000</td>\n",
       "      <td>2244.0</td>\n",
       "      <td>2244.0</td>\n",
       "      <td>2244.0</td>\n",
       "      <td>2244.0</td>\n",
       "      <td>2244.0</td>\n",
       "      <td>2244.0</td>\n",
       "      <td>2244.000000</td>\n",
       "      <td>2244.000000</td>\n",
       "      <td>2244.000000</td>\n",
       "      <td>...</td>\n",
       "      <td>2244.000000</td>\n",
       "      <td>2244.000000</td>\n",
       "      <td>2.244000e+03</td>\n",
       "      <td>2244.000000</td>\n",
       "      <td>2244.0</td>\n",
       "      <td>2244.0</td>\n",
       "      <td>2244.0</td>\n",
       "      <td>2244.0</td>\n",
       "      <td>2244.0</td>\n",
       "      <td>2244.0</td>\n",
       "    </tr>\n",
       "    <tr>\n",
       "      <th>mean</th>\n",
       "      <td>-152.291889</td>\n",
       "      <td>0.0</td>\n",
       "      <td>0.0</td>\n",
       "      <td>0.0</td>\n",
       "      <td>0.0</td>\n",
       "      <td>0.0</td>\n",
       "      <td>0.0</td>\n",
       "      <td>0.000001</td>\n",
       "      <td>-0.000002</td>\n",
       "      <td>-0.000005</td>\n",
       "      <td>...</td>\n",
       "      <td>-0.000006</td>\n",
       "      <td>-0.000003</td>\n",
       "      <td>9.369062e-07</td>\n",
       "      <td>0.000005</td>\n",
       "      <td>0.0</td>\n",
       "      <td>0.0</td>\n",
       "      <td>0.0</td>\n",
       "      <td>0.0</td>\n",
       "      <td>0.0</td>\n",
       "      <td>0.0</td>\n",
       "    </tr>\n",
       "    <tr>\n",
       "      <th>std</th>\n",
       "      <td>3659.189806</td>\n",
       "      <td>0.0</td>\n",
       "      <td>0.0</td>\n",
       "      <td>0.0</td>\n",
       "      <td>0.0</td>\n",
       "      <td>0.0</td>\n",
       "      <td>0.0</td>\n",
       "      <td>0.000015</td>\n",
       "      <td>0.000015</td>\n",
       "      <td>0.000015</td>\n",
       "      <td>...</td>\n",
       "      <td>0.000018</td>\n",
       "      <td>0.000017</td>\n",
       "      <td>1.806985e-05</td>\n",
       "      <td>0.000020</td>\n",
       "      <td>0.0</td>\n",
       "      <td>0.0</td>\n",
       "      <td>0.0</td>\n",
       "      <td>0.0</td>\n",
       "      <td>0.0</td>\n",
       "      <td>0.0</td>\n",
       "    </tr>\n",
       "    <tr>\n",
       "      <th>min</th>\n",
       "      <td>-13555.000000</td>\n",
       "      <td>0.0</td>\n",
       "      <td>0.0</td>\n",
       "      <td>0.0</td>\n",
       "      <td>0.0</td>\n",
       "      <td>0.0</td>\n",
       "      <td>0.0</td>\n",
       "      <td>-0.000090</td>\n",
       "      <td>-0.000085</td>\n",
       "      <td>-0.000096</td>\n",
       "      <td>...</td>\n",
       "      <td>-0.000067</td>\n",
       "      <td>-0.000067</td>\n",
       "      <td>-9.610000e-05</td>\n",
       "      <td>-0.000125</td>\n",
       "      <td>0.0</td>\n",
       "      <td>0.0</td>\n",
       "      <td>0.0</td>\n",
       "      <td>0.0</td>\n",
       "      <td>0.0</td>\n",
       "      <td>0.0</td>\n",
       "    </tr>\n",
       "    <tr>\n",
       "      <th>25%</th>\n",
       "      <td>-370.250000</td>\n",
       "      <td>0.0</td>\n",
       "      <td>0.0</td>\n",
       "      <td>0.0</td>\n",
       "      <td>0.0</td>\n",
       "      <td>0.0</td>\n",
       "      <td>0.0</td>\n",
       "      <td>-0.000008</td>\n",
       "      <td>-0.000012</td>\n",
       "      <td>-0.000014</td>\n",
       "      <td>...</td>\n",
       "      <td>-0.000018</td>\n",
       "      <td>-0.000015</td>\n",
       "      <td>-1.002500e-05</td>\n",
       "      <td>-0.000008</td>\n",
       "      <td>0.0</td>\n",
       "      <td>0.0</td>\n",
       "      <td>0.0</td>\n",
       "      <td>0.0</td>\n",
       "      <td>0.0</td>\n",
       "      <td>0.0</td>\n",
       "    </tr>\n",
       "    <tr>\n",
       "      <th>50%</th>\n",
       "      <td>1472.500000</td>\n",
       "      <td>0.0</td>\n",
       "      <td>0.0</td>\n",
       "      <td>0.0</td>\n",
       "      <td>0.0</td>\n",
       "      <td>0.0</td>\n",
       "      <td>0.0</td>\n",
       "      <td>0.000001</td>\n",
       "      <td>-0.000002</td>\n",
       "      <td>-0.000005</td>\n",
       "      <td>...</td>\n",
       "      <td>-0.000007</td>\n",
       "      <td>-0.000003</td>\n",
       "      <td>1.090000e-06</td>\n",
       "      <td>0.000005</td>\n",
       "      <td>0.0</td>\n",
       "      <td>0.0</td>\n",
       "      <td>0.0</td>\n",
       "      <td>0.0</td>\n",
       "      <td>0.0</td>\n",
       "      <td>0.0</td>\n",
       "    </tr>\n",
       "    <tr>\n",
       "      <th>75%</th>\n",
       "      <td>1806.000000</td>\n",
       "      <td>0.0</td>\n",
       "      <td>0.0</td>\n",
       "      <td>0.0</td>\n",
       "      <td>0.0</td>\n",
       "      <td>0.0</td>\n",
       "      <td>0.0</td>\n",
       "      <td>0.000011</td>\n",
       "      <td>0.000007</td>\n",
       "      <td>0.000004</td>\n",
       "      <td>...</td>\n",
       "      <td>0.000004</td>\n",
       "      <td>0.000008</td>\n",
       "      <td>1.300000e-05</td>\n",
       "      <td>0.000018</td>\n",
       "      <td>0.0</td>\n",
       "      <td>0.0</td>\n",
       "      <td>0.0</td>\n",
       "      <td>0.0</td>\n",
       "      <td>0.0</td>\n",
       "      <td>0.0</td>\n",
       "    </tr>\n",
       "    <tr>\n",
       "      <th>max</th>\n",
       "      <td>2009.000000</td>\n",
       "      <td>0.0</td>\n",
       "      <td>0.0</td>\n",
       "      <td>0.0</td>\n",
       "      <td>0.0</td>\n",
       "      <td>0.0</td>\n",
       "      <td>0.0</td>\n",
       "      <td>0.000073</td>\n",
       "      <td>0.000061</td>\n",
       "      <td>0.000077</td>\n",
       "      <td>...</td>\n",
       "      <td>0.000125</td>\n",
       "      <td>0.000133</td>\n",
       "      <td>1.100000e-04</td>\n",
       "      <td>0.000073</td>\n",
       "      <td>0.0</td>\n",
       "      <td>0.0</td>\n",
       "      <td>0.0</td>\n",
       "      <td>0.0</td>\n",
       "      <td>0.0</td>\n",
       "      <td>0.0</td>\n",
       "    </tr>\n",
       "  </tbody>\n",
       "</table>\n",
       "<p>8 rows × 1867 columns</p>\n",
       "</div>"
      ],
      "text/plain": [
       "               year    3996    3994    3992    3990    3988    3987  \\\n",
       "count   2244.000000  2244.0  2244.0  2244.0  2244.0  2244.0  2244.0   \n",
       "mean    -152.291889     0.0     0.0     0.0     0.0     0.0     0.0   \n",
       "std     3659.189806     0.0     0.0     0.0     0.0     0.0     0.0   \n",
       "min   -13555.000000     0.0     0.0     0.0     0.0     0.0     0.0   \n",
       "25%     -370.250000     0.0     0.0     0.0     0.0     0.0     0.0   \n",
       "50%     1472.500000     0.0     0.0     0.0     0.0     0.0     0.0   \n",
       "75%     1806.000000     0.0     0.0     0.0     0.0     0.0     0.0   \n",
       "max     2009.000000     0.0     0.0     0.0     0.0     0.0     0.0   \n",
       "\n",
       "              3985         3983         3981  ...          417          415  \\\n",
       "count  2244.000000  2244.000000  2244.000000  ...  2244.000000  2244.000000   \n",
       "mean      0.000001    -0.000002    -0.000005  ...    -0.000006    -0.000003   \n",
       "std       0.000015     0.000015     0.000015  ...     0.000018     0.000017   \n",
       "min      -0.000090    -0.000085    -0.000096  ...    -0.000067    -0.000067   \n",
       "25%      -0.000008    -0.000012    -0.000014  ...    -0.000018    -0.000015   \n",
       "50%       0.000001    -0.000002    -0.000005  ...    -0.000007    -0.000003   \n",
       "75%       0.000011     0.000007     0.000004  ...     0.000004     0.000008   \n",
       "max       0.000073     0.000061     0.000077  ...     0.000125     0.000133   \n",
       "\n",
       "                413          411     409     407     405     403     401  \\\n",
       "count  2.244000e+03  2244.000000  2244.0  2244.0  2244.0  2244.0  2244.0   \n",
       "mean   9.369062e-07     0.000005     0.0     0.0     0.0     0.0     0.0   \n",
       "std    1.806985e-05     0.000020     0.0     0.0     0.0     0.0     0.0   \n",
       "min   -9.610000e-05    -0.000125     0.0     0.0     0.0     0.0     0.0   \n",
       "25%   -1.002500e-05    -0.000008     0.0     0.0     0.0     0.0     0.0   \n",
       "50%    1.090000e-06     0.000005     0.0     0.0     0.0     0.0     0.0   \n",
       "75%    1.300000e-05     0.000018     0.0     0.0     0.0     0.0     0.0   \n",
       "max    1.100000e-04     0.000073     0.0     0.0     0.0     0.0     0.0   \n",
       "\n",
       "          399  \n",
       "count  2244.0  \n",
       "mean      0.0  \n",
       "std       0.0  \n",
       "min       0.0  \n",
       "25%       0.0  \n",
       "50%       0.0  \n",
       "75%       0.0  \n",
       "max       0.0  \n",
       "\n",
       "[8 rows x 1867 columns]"
      ]
     },
     "execution_count": 14,
     "metadata": {},
     "output_type": "execute_result"
    }
   ],
   "source": [
    "data.describe()"
   ]
  },
  {
   "cell_type": "code",
   "execution_count": 15,
   "metadata": {},
   "outputs": [
    {
     "data": {
      "text/plain": [
       "((2244, 1866), (2244,))"
      ]
     },
     "execution_count": 15,
     "metadata": {},
     "output_type": "execute_result"
    }
   ],
   "source": [
    "# Split into target and features\n",
    "# The goal is to predict the year column of the dataset using the spectral data\n",
    "X = data.select_dtypes(\"float\")\n",
    "y = data[\"year\"]\n",
    "X.shape, y.shape"
   ]
  },
  {
   "cell_type": "code",
   "execution_count": 16,
   "metadata": {},
   "outputs": [
    {
     "name": "stderr",
     "output_type": "stream",
     "text": [
      "2024-06-24 04:07:14 - INFO - Number of columns to be dropped, where std = 0.0 in X: 12\n"
     ]
    }
   ],
   "source": [
    "# count the number of columns with std = 0.0 in X\n",
    "logging.info(f\"Number of columns to be dropped, where std = 0.0 in X: {(X.std() == 0.0).sum()}\")"
   ]
  },
  {
   "cell_type": "code",
   "execution_count": 17,
   "metadata": {},
   "outputs": [
    {
     "name": "stderr",
     "output_type": "stream",
     "text": [
      "2024-06-24 04:07:14 - INFO - Dimensions of X after dropping columns with std = 0.0: (2244, 1854)\n",
      "2024-06-24 04:07:14 - INFO - Dimensions of Y: (2244,)\n"
     ]
    }
   ],
   "source": [
    "# drop the columns with std = 0.0\n",
    "X = X.loc[:, X.std() != 0.0]\n",
    "logging.info(f\"Dimensions of X after dropping columns with std = 0.0: {X.shape}\")\n",
    "logging.info(f\"Dimensions of Y: {y.shape}\")\n"
   ]
  },
  {
   "cell_type": "code",
   "execution_count": 18,
   "metadata": {},
   "outputs": [
    {
     "name": "stderr",
     "output_type": "stream",
     "text": [
      "2024-06-24 04:07:14 - INFO - random split with testsize 0.3 into training and test sets\n"
     ]
    }
   ],
   "source": [
    "# Split the data into training and test sets\n",
    "test_size = 0.3\n",
    "X_train, X_test, y_train, y_test = train_test_split(\n",
    "    X, y, test_size=test_size, random_state=random_state\n",
    ")\n",
    "logging.info(f\"random split with testsize {test_size} into training and test sets\")\n"
   ]
  },
  {
   "cell_type": "code",
   "execution_count": 19,
   "metadata": {},
   "outputs": [],
   "source": [
    "X_train.shape, X_test.shape, y_train.shape, y_test.shape\n",
    "# assert the shapes and raise an error if they are not equal\n",
    "assert X_train.shape[0] + X_test.shape[0] == X.shape[0]\n",
    "assert y_train.shape[0] + y_test.shape[0] == y.shape[0]"
   ]
  },
  {
   "cell_type": "markdown",
   "metadata": {},
   "source": [
    "## Define Score metrics"
   ]
  },
  {
   "cell_type": "code",
   "execution_count": 20,
   "metadata": {},
   "outputs": [
    {
     "name": "stderr",
     "output_type": "stream",
     "text": [
      "2024-06-24 04:07:14 - INFO - Scorer: make_scorer(mean_squared_error, greater_is_better=False, response_method='predict', sqrt=True)\n"
     ]
    }
   ],
   "source": [
    "from sklearn.metrics import make_scorer\n",
    "from sklearn.metrics import root_mean_squared_error\n",
    "\n",
    "# create a scorer which calculates Root Mean Squeared Error (RMSE)\n",
    "\n",
    "# scoring = make_scorer(root_mean_squared_error, greater_is_better=False)\n",
    "scoring = make_scorer(mean_squared_error, greater_is_better=False, sqrt=True)\n",
    "\n",
    "logging.info(f\"Scorer: {scoring}\")"
   ]
  },
  {
   "cell_type": "markdown",
   "metadata": {},
   "source": [
    "# Investigating the prediction performance of Kernel Ridge Regression\n",
    "\n",
    "This code is developed for the investigation of the failure of the krr regression in the universal part of the RSCV. Here the parameter-distributions are defined explicitly. \n",
    "\n",
    "[Kernel ridge regression in sklearn](https://scikit-learn.org/stable/modules/generated/sklearn.kernel_ridge.KernelRidge.html#sklearn.kernel_ridge.KernelRidge) can be optimized using the following parameters: \n",
    "\n",
    "- **alpha** \n",
    "    - Regularization strength\n",
    "- **kernel**\n",
    "    - Kernel mapping used internally\n",
    "- **gamma**\n",
    "    -  Gamma parameter for the RBF, laplacian, polynomial, exponential chi2 and sigmoid kernels\n",
    "- **degree** \n",
    "    - Degree of the polynomial kernel\n",
    "- **coef0** \n",
    "    - Zero coefficient for polynomial and sigmoid kernels\n",
    "- **kernel_params**\n",
    "    - Additional parameters (keyword arguments) for kernel function\n"
   ]
  },
  {
   "cell_type": "code",
   "execution_count": 21,
   "metadata": {},
   "outputs": [],
   "source": [
    "from sklearn.kernel_ridge import KernelRidge as KRR\n",
    "from scipy.stats import uniform\n",
    "\n",
    "alpha_dist = uniform(loc=1e-3, scale=1e-1) # controls 'complexity'\n",
    "gamma_dist = uniform(loc=1e-3, scale=1e-1) # controls 'smoothness'\n",
    "kernel_list = ['linear', 'poly', 'polynomial', 'rbf',]\n",
    "krr_rscv_parameters = {\"alpha\": alpha_dist, \"gamma\": gamma_dist, \"kernel\": kernel_list}"
   ]
  },
  {
   "cell_type": "code",
   "execution_count": 22,
   "metadata": {},
   "outputs": [
    {
     "data": {
      "text/plain": [
       "make_scorer(mean_squared_error, greater_is_better=False, response_method='predict', sqrt=True)"
      ]
     },
     "execution_count": 22,
     "metadata": {},
     "output_type": "execute_result"
    }
   ],
   "source": [
    "scoring"
   ]
  },
  {
   "cell_type": "code",
   "execution_count": 25,
   "metadata": {},
   "outputs": [],
   "source": [
    "from al_lib.helper_functions import rmse_func as rmse\n",
    "from al_lib.helper_functions import report_model\n",
    "from sklearn.model_selection import cross_val_predict as cvp\n",
    "from sklearn.metrics import (\n",
    "    mean_squared_error,\n",
    ")  # also imports the neg_root_mean_squared_error\n",
    "from sklearn.metrics import root_mean_squared_error\n",
    "from sklearn.metrics import make_scorer\n",
    "\n",
    "\n",
    "# create a scorer which calculates Root Mean Squeared Error (RMSE)\n",
    "\n",
    "\n",
    "def rscv(\n",
    "    features,\n",
    "    target,\n",
    "    model,\n",
    "    param_distributions,\n",
    "    results_file,\n",
    "    random_state,\n",
    "    NoTrials=5,\n",
    "    nfolds=4,\n",
    "    n_jobs=5,\n",
    "    scoring=scoring, #\n",
    "):\n",
    "    \"\"\"_summary_\n",
    "\n",
    "    Args:\n",
    "        features (_type_): _description_\n",
    "        target (_type_): _description_\n",
    "        model (_type_): _description_\n",
    "        param_distributions (_type_): _description_\n",
    "        results_file (_type_): _description_\n",
    "        random_state (_type_): _description_\n",
    "        NoTrials (int, optional): _description_. Defaults to 5.\n",
    "        nfolds (int, optional): _description_. Defaults to 4.\n",
    "        n_jobs (int, optional): _description_. Defaults to 5.\n",
    "        scoring (_type_, optional): _description_. Defaults to scoring.\n",
    "\n",
    "    Returns:\n",
    "        _type_: _description_\n",
    "    \"\"\"\n",
    "    logging.info(f\"STARTED the RandomizedSearchCV for {model} with {NoTrials} trials\")\n",
    "    # log the args\n",
    "    logging.info(\n",
    "        f\"Features: {features.shape}, Target: {target.shape}, Model: {model}, Param_distributions: {param_distributions}, Results File: {results_file} Random_state: {random_state}, NoTrials: {NoTrials}, nfolds: {nfolds}, n_jobs: {n_jobs}, Scoring: {scoring}\"\n",
    "    )\n",
    "    logging.info(f\"Results file: {results_file}\")\n",
    "\n",
    "    # prepare the result object 1\n",
    "    rscv_results = pd.DataFrame(columns=[\"model\", \"MAE\", \"RMSE\", \"params\"])\n",
    "\n",
    "    # define the train and test sets\n",
    "    X_train, X_test, y_train, y_test = train_test_split(\n",
    "        features, target, test_size=0.3, random_state=random_state\n",
    "    )\n",
    "    # create the result objects 2\n",
    "    rscv_rmse_inner = np.zeros(NoTrials)\n",
    "    rscv_rmse_outer = np.zeros(NoTrials)\n",
    "\n",
    "    for i in range(NoTrials):\n",
    "        logging.info(f\"Trial: {i} out of {NoTrials}\")\n",
    "        # split for nested cross-validation\n",
    "        inner_cv = KFold(n_splits=nfolds, shuffle=True, random_state=i)\n",
    "        outer_cv = KFold(n_splits=nfolds, shuffle=True, random_state=i)\n",
    "\n",
    "        # non-nested parameter search and scoring\n",
    "        rscv = RandomizedSearchCV(\n",
    "            model,\n",
    "            param_distributions=param_distributions,\n",
    "            n_iter=10,\n",
    "            cv=inner_cv,\n",
    "            random_state=random_state,\n",
    "            scoring=scoring,\n",
    "\n",
    "            n_jobs=n_jobs,\n",
    "        )\n",
    "\n",
    "        # fit\n",
    "        rscv.fit(X_train, y_train)\n",
    "        # make predictions to later estimate the generalization error\n",
    "        y_pred = cvp(rscv, X_test, y_test, cv=outer_cv, n_jobs=n_jobs)\n",
    "        all_predictions = np.zeros((len(y_test), NoTrials))\n",
    "        all_predictions[:, i] = y_pred\n",
    "        # calculate the RMSE for the inner and outer CV\n",
    "        rscv_rmse_inner[i] = rscv.best_score_\n",
    "\n",
    "        # calculate the RMSE for the outer CV\n",
    "        # rscv_rmse_outer[i] = np.sqrt(mean_squared_error(y_test, y_pred))\n",
    "        rscv_rmse_outer[i] = rmse(y_test, y_pred)\n",
    "        # store the results\n",
    "        rscv_results.loc[i, \"model\"] = rscv.estimator\n",
    "        rscv_results.loc[i, \"MAE\"] = mean_absolute_error(y_test, y_pred)\n",
    "        rscv_results.loc[i, \"RMSE\"] = np.sqrt(mean_squared_error(y_test, y_pred))\n",
    "        rscv_results.at[i, \"params\"] = rscv.best_params_\n",
    "        report_model(rscv)\n",
    "\n",
    "    # write results into outputifle\n",
    "    rscv_results.to_csv(results_file, index=False, mode=\"a\")\n",
    "    logging.info(f\"FINISHED the RandomizedSearchCV for {model} with {NoTrials} trials\")\n",
    "    return rscv_results\n",
    "    # the goal of the rscv is to find the optimal hyperparameters\n",
    "    # for further investigation we want to store\n",
    "    # the 10 best model parameters and their scores\n",
    "    # both the inner and outer cv scores, as well as the score difference"
   ]
  },
  {
   "cell_type": "code",
   "execution_count": null,
   "metadata": {},
   "outputs": [],
   "source": [
    "# lets rewrite the rscv function to minimize the functionality and to make it more readable\n",
    "\n",
    "def rscv_simple(\n",
    "    features,\n",
    "    target,\n",
    "    model,\n",
    "    param_distributions, \n",
    "    results_file,\n",
    "):\n",
    "    \"\"\"_summary_\n",
    "\n",
    "    Args:\n",
    "        features (_type_): _description_\n",
    "        target (_type_): _description_\n",
    "        model (_type_): _description_\n",
    "        param_distributions (_type_): _description_\n",
    "        results_file (_type_): _description_\n",
    "        random_state (_type_): _description_\n",
    "        NoTrials (int, optional): _description_. Defaults to 5.\n",
    "        nfolds (int, optional): _description_. Defaults to 4.\n",
    "        n_jobs (int, optional): _description_. Defaults to 5.\n",
    "        scoring (_type_, optional): _description_. Defaults to scoring.\n",
    "\n",
    "    Returns:\n",
    "        _type_: _description_\n",
    "    \"\"\"\n",
    "    # prepare the result object 1\n",
    "    rscv_results = pd.DataFrame(columns=[\"model\", \"MAE\", \"RMSE\", \"params\"])\n",
    "\n",
    "    # define the train and test sets\n",
    "    X_train, X_test, y_train, y_test = train_test_split(\n",
    "        features, target, test_size=0.3, random_state=random_state\n",
    "    )\n",
    "    # create the result objects 2\n",
    "    rscv_rmse_inner = np.zeros(NoTrials)\n",
    "    rscv_rmse_outer = np.zeros(NoTrials)\n",
    "\n",
    "    for i in range(NoTrials):\n",
    "        print(f\"Trial: {i} out of {NoTrials}\")\n",
    "        # split for nested cross-validation\n",
    "        inner_cv = KFold(n_splits=nfolds, shuffle=True, random_state=i)\n",
    "        outer_cv = KFold(n_splits=nfolds, shuffle=True, random_state=i)\n",
    "\n",
    "        # non-nested parameter search and scoring\n",
    "        rscv = RandomizedSearchCV(\n",
    "            model,\n",
    "            param_distributions=param_distributions,\n",
    "            n_iter=10,\n",
    "            cv=inner_cv,\n",
    "            random_state=random_state,\n",
    "            scoring=scoring,\n",
    "\n",
    "            n_jobs=n_jobs,\n",
    "        )\n",
    "\n",
    "        # fit\n",
    "        rscv.fit(X_train, y_train)\n",
    "        # make predictions to later estimate the generalization error\n",
    "        y_pred = cvp(rscv, X_test, y_test, cv=outer_cv, n_jobs=n_jobs)\n",
    "        all_predictions = np.zeros((len(y_test), NoTrials))\n",
    "        all_predictions[:, i] = y_pred\n",
    "        # calculate the RMSE for the inner and outer CV\n",
    "        rscv_rmse_inner[i] = rscv.best_score_\n",
    "\n",
    "        # calculate the RMSE for the outer CV\n",
    "        # rscv_rmse_outer[i] = np.sqrt(mean_squared_error(y_test, y_pred))\n",
    "        rscv_rmse_outer[i] = rmse(y_test, y_pred)\n",
    "        # store the results\n",
    "        rscv_results.loc[i, \"model\"] = rscv.estimator\n",
    "        rscv_results.loc[i, \"MAE\"] = mean_absolute_error(y_test, y_pred)\n",
    "        rscv_results.loc[i, \"RMSE\"] = np.sqrt(mean_squared_error(y_test, y_pred))\n",
    "        rscv_results.at[i, \"params\"] = rscv.best_params_\n",
    "        report_model(rscv)\n",
    "\n",
    "    # write results into outputifle\n",
    "    rscv_results.to_csv(results_file, index=False, mode=\"a\")\n",
    "    logging.info(f\"FINISHED the RandomizedSearchCV for {model} with {NoTrials} trials\")\n",
    "    return rscv_results\n",
    "    # the goal of the rscv is to find the optimal hyperparameters\n",
    "    # for further investigation we want to store\n",
    "    # the 10 best model parameters and their scores\n",
    "    # both the inner and outer cv scores, as well as the score difference"
   ]
  },
  {
   "cell_type": "markdown",
   "metadata": {},
   "source": [
    "## RBF-Kernel"
   ]
  },
  {
   "cell_type": "code",
   "execution_count": 33,
   "metadata": {},
   "outputs": [],
   "source": [
    "# define the hyperparameter distribution for the KRR model with the rbf kernel\n",
    "\n",
    "alpha_dist = uniform(loc=1e-2, scale=1) # controls 'complexity'\n",
    "gamma_dist = uniform(loc=1e-3, scale=1e-1) # controls 'smoothness'\n",
    "kernel = ['rbf'] # [‘additive_chi2’, ‘chi2’, ‘linear’, ‘poly’, ‘polynomial’, ‘rbf’, ‘laplacian’, ‘sigmoid’, ‘cosine’]"
   ]
  },
  {
   "cell_type": "code",
   "execution_count": 44,
   "metadata": {},
   "outputs": [],
   "source": [
    "# improved hyperparameter distributions\n",
    "from scipy.stats import randint, loguniform\n",
    "\n",
    "alpha= loguniform(a=1e-3, b=1e3)  # Regularization strength\n",
    "gamma= loguniform(a=1e-3, b=1e3)  # Kernel coefficient for ‘rbf’"
   ]
  },
  {
   "cell_type": "code",
   "execution_count": 54,
   "metadata": {},
   "outputs": [
    {
     "data": {
      "image/png": "[encoded data removed]",
      "text/plain": [
       "<Figure size 640x480 with 1 Axes>"
      ]
     },
     "metadata": {},
     "output_type": "display_data"
    }
   ],
   "source": [
    "# select 100 values from the distribution and plot them\n",
    "alpha_values = alpha.rvs(1000)\n",
    "gamma_values = gamma.rvs(1000)\n",
    "\n",
    "plt.scatter(alpha_values, gamma_values)\n",
    "plt.xlabel(\"alpha\")\n",
    "plt.xlim(-0.1,2.5)\n",
    "plt.ylabel(\"gamma\")\n",
    "plt.ylim(-0.1,2.5)\n",
    "plt.title(\"RandomizedSearchCV for KRR with rbf kernel\")\n",
    "plt.show()"
   ]
  },
  {
   "cell_type": "code",
   "execution_count": 56,
   "metadata": {},
   "outputs": [
    {
     "name": "stderr",
     "output_type": "stream",
     "text": [
      "2024-06-24 04:42:45 - INFO - STARTED the RandomizedSearchCV for KernelRidge(kernel='rbf') with 10 trials\n",
      "2024-06-24 04:42:45 - INFO - Features: (2244, 1854), Target: (2244,), Model: KernelRidge(kernel='rbf'), Param_distributions: {'alpha': <scipy.stats._distn_infrastructure.rv_continuous_frozen object at 0x7fa4534c4c50>, 'gamma': <scipy.stats._distn_infrastructure.rv_continuous_frozen object at 0x7fa4534c7e60>}, Results File: ../03_Modelling/03_1_rscv/rscv_results/krr/krr_rbf_investigation_results.csv Random_state: RandomState(MT19937), NoTrials: 10, nfolds: 10, n_jobs: 30, Scoring: neg_root_mean_squared_error\n",
      "2024-06-24 04:42:45 - INFO - Results file: ../03_Modelling/03_1_rscv/rscv_results/krr/krr_rbf_investigation_results.csv\n",
      "2024-06-24 04:42:45 - INFO - Trial: 0 out of 10\n",
      "2024-06-24 04:42:56 - INFO - Trial: 1 out of 10\n"
     ]
    },
    {
     "name": "stdout",
     "output_type": "stream",
     "text": [
      "Best hyperparameters for KernelRidge: {'alpha': np.float64(0.0019364344852822624), 'gamma': np.float64(33.068621778361184)}\n",
      "Best score -2388.9411672174965 for KernelRidge: -2388.9411672174965\n",
      "Best estimator for KernelRidge: KernelRidge(alpha=np.float64(0.0019364344852822624),\n",
      "            gamma=np.float64(33.068621778361184), kernel='rbf')\n"
     ]
    },
    {
     "name": "stderr",
     "output_type": "stream",
     "text": [
      "/home/fhwn.ac.at/202375/.conda/envs/thesis/lib/python3.12/site-packages/joblib/externals/loky/process_executor.py:752: UserWarning: A worker stopped while some jobs were given to the executor. This can be caused by a too short worker timeout or by a memory leak.\n",
      "  warnings.warn(\n",
      "2024-06-24 04:43:06 - INFO - Trial: 2 out of 10\n"
     ]
    },
    {
     "name": "stdout",
     "output_type": "stream",
     "text": [
      "Best hyperparameters for KernelRidge: {'alpha': np.float64(0.05559871880309797), 'gamma': np.float64(76.51196389976523)}\n",
      "Best score -3314.1311390331953 for KernelRidge: -3314.1311390331953\n",
      "Best estimator for KernelRidge: KernelRidge(alpha=np.float64(0.05559871880309797),\n",
      "            gamma=np.float64(76.51196389976523), kernel='rbf')\n"
     ]
    },
    {
     "name": "stderr",
     "output_type": "stream",
     "text": [
      "/home/fhwn.ac.at/202375/.conda/envs/thesis/lib/python3.12/site-packages/joblib/externals/loky/process_executor.py:752: UserWarning: A worker stopped while some jobs were given to the executor. This can be caused by a too short worker timeout or by a memory leak.\n",
      "  warnings.warn(\n",
      "2024-06-24 04:43:17 - INFO - Trial: 3 out of 10\n"
     ]
    },
    {
     "name": "stdout",
     "output_type": "stream",
     "text": [
      "Best hyperparameters for KernelRidge: {'alpha': np.float64(0.013933785938789177), 'gamma': np.float64(822.8115409026229)}\n",
      "Best score -1957.111571246512 for KernelRidge: -1957.111571246512\n",
      "Best estimator for KernelRidge: KernelRidge(alpha=np.float64(0.013933785938789177),\n",
      "            gamma=np.float64(822.8115409026229), kernel='rbf')\n"
     ]
    },
    {
     "name": "stderr",
     "output_type": "stream",
     "text": [
      "/home/fhwn.ac.at/202375/.conda/envs/thesis/lib/python3.12/site-packages/joblib/externals/loky/process_executor.py:752: UserWarning: A worker stopped while some jobs were given to the executor. This can be caused by a too short worker timeout or by a memory leak.\n",
      "  warnings.warn(\n",
      "2024-06-24 04:43:28 - INFO - Trial: 4 out of 10\n"
     ]
    },
    {
     "name": "stdout",
     "output_type": "stream",
     "text": [
      "Best hyperparameters for KernelRidge: {'alpha': np.float64(0.03236707729557982), 'gamma': np.float64(628.3724120270508)}\n",
      "Best score -2331.7675597429447 for KernelRidge: -2331.7675597429447\n",
      "Best estimator for KernelRidge: KernelRidge(alpha=np.float64(0.03236707729557982),\n",
      "            gamma=np.float64(628.3724120270508), kernel='rbf')\n"
     ]
    },
    {
     "name": "stderr",
     "output_type": "stream",
     "text": [
      "/home/fhwn.ac.at/202375/.conda/envs/thesis/lib/python3.12/site-packages/joblib/externals/loky/process_executor.py:752: UserWarning: A worker stopped while some jobs were given to the executor. This can be caused by a too short worker timeout or by a memory leak.\n",
      "  warnings.warn(\n",
      "2024-06-24 04:43:39 - INFO - Trial: 5 out of 10\n"
     ]
    },
    {
     "name": "stdout",
     "output_type": "stream",
     "text": [
      "Best hyperparameters for KernelRidge: {'alpha': np.float64(0.5554748631032582), 'gamma': np.float64(825.6794696972221)}\n",
      "Best score -3294.3175043333044 for KernelRidge: -3294.3175043333044\n",
      "Best estimator for KernelRidge: KernelRidge(alpha=np.float64(0.5554748631032582),\n",
      "            gamma=np.float64(825.6794696972221), kernel='rbf')\n"
     ]
    },
    {
     "name": "stderr",
     "output_type": "stream",
     "text": [
      "/home/fhwn.ac.at/202375/.conda/envs/thesis/lib/python3.12/site-packages/joblib/externals/loky/process_executor.py:752: UserWarning: A worker stopped while some jobs were given to the executor. This can be caused by a too short worker timeout or by a memory leak.\n",
      "  warnings.warn(\n",
      "2024-06-24 04:43:50 - INFO - Trial: 6 out of 10\n"
     ]
    },
    {
     "name": "stdout",
     "output_type": "stream",
     "text": [
      "Best hyperparameters for KernelRidge: {'alpha': np.float64(0.003377952818312651), 'gamma': np.float64(495.95965392571793)}\n",
      "Best score -1716.0411231560295 for KernelRidge: -1716.0411231560295\n",
      "Best estimator for KernelRidge: KernelRidge(alpha=np.float64(0.003377952818312651),\n",
      "            gamma=np.float64(495.95965392571793), kernel='rbf')\n"
     ]
    },
    {
     "name": "stderr",
     "output_type": "stream",
     "text": [
      "/home/fhwn.ac.at/202375/.conda/envs/thesis/lib/python3.12/site-packages/joblib/externals/loky/process_executor.py:752: UserWarning: A worker stopped while some jobs were given to the executor. This can be caused by a too short worker timeout or by a memory leak.\n",
      "  warnings.warn(\n",
      "2024-06-24 04:44:01 - INFO - Trial: 7 out of 10\n"
     ]
    },
    {
     "name": "stdout",
     "output_type": "stream",
     "text": [
      "Best hyperparameters for KernelRidge: {'alpha': np.float64(0.027330089802775234), 'gamma': np.float64(810.8853976556966)}\n",
      "Best score -2179.2028736374323 for KernelRidge: -2179.2028736374323\n",
      "Best estimator for KernelRidge: KernelRidge(alpha=np.float64(0.027330089802775234),\n",
      "            gamma=np.float64(810.8853976556966), kernel='rbf')\n"
     ]
    },
    {
     "name": "stderr",
     "output_type": "stream",
     "text": [
      "/home/fhwn.ac.at/202375/.conda/envs/thesis/lib/python3.12/site-packages/joblib/externals/loky/process_executor.py:752: UserWarning: A worker stopped while some jobs were given to the executor. This can be caused by a too short worker timeout or by a memory leak.\n",
      "  warnings.warn(\n",
      "2024-06-24 04:44:11 - INFO - Trial: 8 out of 10\n"
     ]
    },
    {
     "name": "stdout",
     "output_type": "stream",
     "text": [
      "Best hyperparameters for KernelRidge: {'alpha': np.float64(0.19033795138837425), 'gamma': np.float64(189.1711018789091)}\n",
      "Best score -3390.3874856216935 for KernelRidge: -3390.3874856216935\n",
      "Best estimator for KernelRidge: KernelRidge(alpha=np.float64(0.19033795138837425),\n",
      "            gamma=np.float64(189.1711018789091), kernel='rbf')\n"
     ]
    },
    {
     "name": "stderr",
     "output_type": "stream",
     "text": [
      "/home/fhwn.ac.at/202375/.conda/envs/thesis/lib/python3.12/site-packages/joblib/externals/loky/process_executor.py:752: UserWarning: A worker stopped while some jobs were given to the executor. This can be caused by a too short worker timeout or by a memory leak.\n",
      "  warnings.warn(\n",
      "2024-06-24 04:44:23 - INFO - Trial: 9 out of 10\n"
     ]
    },
    {
     "name": "stdout",
     "output_type": "stream",
     "text": [
      "Best hyperparameters for KernelRidge: {'alpha': np.float64(0.00480222162128199), 'gamma': np.float64(16.50969534366786)}\n",
      "Best score -3028.5684453632903 for KernelRidge: -3028.5684453632903\n",
      "Best estimator for KernelRidge: KernelRidge(alpha=np.float64(0.00480222162128199),\n",
      "            gamma=np.float64(16.50969534366786), kernel='rbf')\n"
     ]
    },
    {
     "name": "stderr",
     "output_type": "stream",
     "text": [
      "/home/fhwn.ac.at/202375/.conda/envs/thesis/lib/python3.12/site-packages/joblib/externals/loky/process_executor.py:752: UserWarning: A worker stopped while some jobs were given to the executor. This can be caused by a too short worker timeout or by a memory leak.\n",
      "  warnings.warn(\n",
      "2024-06-24 04:44:33 - INFO - FINISHED the RandomizedSearchCV for KernelRidge(kernel='rbf') with 10 trials\n"
     ]
    },
    {
     "name": "stdout",
     "output_type": "stream",
     "text": [
      "Best hyperparameters for KernelRidge: {'alpha': np.float64(0.15892378024596918), 'gamma': np.float64(13.437190114459167)}\n",
      "Best score -3601.1000838277077 for KernelRidge: -3601.1000838277077\n",
      "Best estimator for KernelRidge: KernelRidge(alpha=np.float64(0.15892378024596918),\n",
      "            gamma=np.float64(13.437190114459167), kernel='rbf')\n"
     ]
    }
   ],
   "source": [
    "from scipy.stats import randint, loguniform\n",
    "\n",
    "# Define the hyperparameter distributions\n",
    "param_distributions = {\n",
    "    'alpha': loguniform(a=1e-3, b=1e3),  # Regularization strength\n",
    "    'gamma': loguniform(a=1e-3, b=1e3),  # Kernel coefficient for ‘rbf’\n",
    "}\n",
    "\n",
    "krr_rbf_results_file = f\"{RESULTS_PATH}krr_rbf_investigation_results.csv\"\n",
    "\n",
    "# Example usage in rscv\n",
    "krr_rbf_rscv = rscv(\n",
    "    features=X,\n",
    "    target=y,\n",
    "    model=KRR(kernel='rbf'),  # Ensure the model uses the RBF kernel\n",
    "    param_distributions=param_distributions,\n",
    "    results_file=krr_rbf_results_file,\n",
    "    random_state=random_state,\n",
    "    NoTrials=10,\n",
    "    nfolds=10,\n",
    "    n_jobs=30,\n",
    "    scoring=\"neg_root_mean_squared_error\",\n",
    ")"
   ]
  },
  {
   "cell_type": "code",
   "execution_count": 57,
   "metadata": {},
   "outputs": [
    {
     "data": {
      "image/png": "[encoded data removed]",
      "text/plain": [
       "<Figure size 640x480 with 1 Axes>"
      ]
     },
     "metadata": {},
     "output_type": "display_data"
    }
   ],
   "source": [
    "# generate the actual vs. predicted plot\n",
    "from al_lib.helper_functions import plot_actual_vs_pred\n",
    "\n",
    "# import the optimal model parameters\n",
    "krr_results = pd.read_csv(krr_rscv_results_file)\n",
    "# select the model parameters with the lowest RMSE\n",
    "optimal_params_str_krr = krr_results.loc[krr_results[\"RMSE\"].idxmin(), \"params\"]\n",
    "optimal_params_krr = dict(eval(optimal_params_str_krr))\n",
    "\n",
    "# rf_opt = RandomForestRegressor(**optimal_params_rf)\n",
    "krr_opt = KRR(**optimal_params_krr)\n",
    "\n",
    "\n",
    "y_pred_krr = krr_opt.fit(X_train, y_train).predict(X_test)\n",
    "\n",
    "title_str = (\n",
    "    f\"KRR: Actual vs. Predicted Values \\n params:\"\n",
    "    + optimal_params_str_krr\n",
    "    + f\"\\n RMSE = {root_mean_squared_error(y_test, y_pred_krr):.2f}\"\n",
    ")\n",
    "\n",
    "param_dict = {\"title\": title_str}\n",
    "fig_path = f\"{FIGURE_PATH}avp_krr_investigation.png\"\n",
    "fig, ax = plt.subplots(1, 1)\n",
    "krr_avp_plot = plot_actual_vs_pred(ax, y_test, y_pred_krr, param_dict, fig_path)"
   ]
  },
  {
   "cell_type": "markdown",
   "metadata": {},
   "source": [
    "# KRR with other kernels"
   ]
  },
  {
   "cell_type": "code",
   "execution_count": 2,
   "metadata": {},
   "outputs": [],
   "source": [
    "from scipy.stats import randint, loguniform\n",
    "\n",
    "# Define the hyperparameter distributions\n",
    "param_distributions = {\n",
    "    'alpha': loguniform(a=1e-6, b=1e6),  # Regularization strength\n",
    "    'gamma': loguniform(a=1e-3, b=1e6),  # Kernel coefficient for ‘rbf’\n",
    "    'kernel': ['rbf', 'linear', 'poly', 'polynomial','chi2'],\n",
    "}"
   ]
  },
  {
   "cell_type": "code",
   "execution_count": null,
   "metadata": {},
   "outputs": [],
   "source": [
    "\n",
    "\n",
    "krr_kernels_results_file = f\"{RESULTS_PATH}krr_kernels_investigation_results.csv\"\n",
    "\n",
    "\n",
    "krr_kernels_rscv = rscv(\n",
    "    features=X,\n",
    "    target=y,\n",
    "    model=KRR(), \n",
    "    param_distributions=param_distributions,\n",
    "    results_file=krr_kernels_results_file,\n",
    "    random_state=random_state,\n",
    "    NoTrials=15,\n",
    "    nfolds=10,\n",
    "    n_jobs=30,\n",
    "    scoring=\"neg_root_mean_squared_error\",\n",
    ")"
   ]
  },
  {
   "cell_type": "code",
   "execution_count": null,
   "metadata": {},
   "outputs": [],
   "source": [
    "# generate the actual vs. predicted plot\n",
    "from al_lib.helper_functions import plot_actual_vs_pred\n",
    "\n",
    "# import the optimal model parameters\n",
    "krr_kernel_results = pd.read_csv(krr_kernels_results_file)\n",
    "# select the model parameters with the lowest RMSE\n",
    "optimal_params_str_krr = krr_kernel_results.loc[krr_kernel_results[\"RMSE\"].idxmin(), \"params\"]\n",
    "optimal_params_krr = dict(eval(optimal_params_str_krr))\n",
    "\n",
    "# rf_opt = RandomForestRegressor(**optimal_params_rf)\n",
    "krr_opt = KRR(**optimal_params_krr)\n",
    "\n",
    "\n",
    "y_pred_krr = krr_opt.fit(X_train, y_train).predict(X_test)\n",
    "\n",
    "title_str = (\n",
    "    f\"KRR -Kernel test: Actual vs. Predicted Values \\n params:\"\n",
    "    + optimal_params_str_krr\n",
    "    + f\"\\n RMSE = {root_mean_squared_error(y_test, y_pred_krr):.2f}\"\n",
    ")\n",
    "\n",
    "param_dict = {\"title\": title_str}\n",
    "fig_path = f\"{FIGURE_PATH}avp_krr_investigation.png\"\n",
    "fig, ax = plt.subplots(1, 1)\n",
    "krr_avp_plot = plot_actual_vs_pred(ax, y_test, y_pred_krr, param_dict, fig_path)"
   ]
  },
  {
   "cell_type": "code",
   "execution_count": 5,
   "metadata": {},
   "outputs": [
    {
     "name": "stdout",
     "output_type": "stream",
     "text": [
      "rbf\n",
      "linear\n",
      "poly\n",
      "polynomial\n",
      "chi2\n"
     ]
    }
   ],
   "source": [
    "# \n",
    "\n",
    "for kernel in param_distributions['kernel']:\n",
    "    print(kernel)"
   ]
  }
 ],
 "metadata": {
  "kernelspec": {
   "display_name": "thesis",
   "language": "python",
   "name": "python3"
  },
  "language_info": {
   "codemirror_mode": {
    "name": "ipython",
    "version": 3
   },
   "file_extension": ".py",
   "mimetype": "text/x-python",
   "name": "python",
   "nbconvert_exporter": "python",
   "pygments_lexer": "ipython3",
   "version": "3.12.4"
  }
 },
 "nbformat": 4,
 "nbformat_minor": 2
}
